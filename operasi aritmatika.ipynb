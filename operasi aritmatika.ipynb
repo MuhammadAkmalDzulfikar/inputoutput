{
 "cells": [
  {
   "cell_type": "markdown",
   "id": "99aa64e5",
   "metadata": {},
   "source": [
    "<B>OPERASI ARITMATIKA</B>"
   ]
  },
  {
   "cell_type": "code",
   "execution_count": 1,
   "id": "b7b35122",
   "metadata": {},
   "outputs": [
    {
     "name": "stdout",
     "output_type": "stream",
     "text": [
      "13\n",
      "7\n",
      "30\n",
      "3.3333333333333335\n",
      "3\n",
      "1000\n",
      "1\n"
     ]
    }
   ],
   "source": [
    "num1 = 10\n",
    "num2 = 3\n",
    "\n",
    "jumlah = num1 + num2\n",
    "kurang = num1 - num2\n",
    "kali   = num1 * num2\n",
    "bagi   = num1 / num2\n",
    "bagi_bulat = num1 // num2\n",
    "pangkat    = num1 ** num2\n",
    "modulus    = num1 % num2\n",
    "\n",
    "print (jumlah)\n",
    "print (kurang)\n",
    "print (kali)\n",
    "print (bagi)\n",
    "print (bagi_bulat)\n",
    "print (pangkat)\n",
    "print (modulus)"
   ]
  },
  {
   "cell_type": "code",
   "execution_count": 2,
   "id": "0c21c72d",
   "metadata": {},
   "outputs": [
    {
     "name": "stdout",
     "output_type": "stream",
     "text": [
      "15\n",
      "11\n",
      "22\n",
      "7.333333333333333\n",
      "3.0\n",
      "27.0\n",
      "1.0\n"
     ]
    }
   ],
   "source": [
    "x = 5 #assignment operator\n",
    "x += 10 # x = x + 10 => 15\n",
    "print (x)\n",
    "x -= 4 # x = x - 4 => 11\n",
    "print (x)\n",
    "x *= 2 # x = x * 2 => 22\n",
    "print (x)\n",
    "x /= 3 # x = x / 3 => 7....\n",
    "print (x)\n",
    "x //= 2 # x = x // 2 => 3.0\n",
    "print (x)\n",
    "x **= 3 # x = x ** 3 => 27\n",
    "print (x)\n",
    "x %= 2 # x = x % 2 => 1\n",
    "print (x)\n",
    "\n",
    "\n"
   ]
  },
  {
   "cell_type": "code",
   "execution_count": null,
   "id": "1532d7f9",
   "metadata": {},
   "outputs": [],
   "source": []
  }
 ],
 "metadata": {
  "kernelspec": {
   "display_name": "Python 3 (ipykernel)",
   "language": "python",
   "name": "python3"
  },
  "language_info": {
   "codemirror_mode": {
    "name": "ipython",
    "version": 3
   },
   "file_extension": ".py",
   "mimetype": "text/x-python",
   "name": "python",
   "nbconvert_exporter": "python",
   "pygments_lexer": "ipython3",
   "version": "3.9.12"
  }
 },
 "nbformat": 4,
 "nbformat_minor": 5
}
