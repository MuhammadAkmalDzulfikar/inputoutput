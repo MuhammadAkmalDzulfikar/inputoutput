{
 "cells": [
  {
   "cell_type": "markdown",
   "id": "8b791de7",
   "metadata": {},
   "source": [
    "<B>INPUT OUTPUT </B>"
   ]
  },
  {
   "cell_type": "code",
   "execution_count": 1,
   "id": "62031b4f",
   "metadata": {},
   "outputs": [
    {
     "name": "stdout",
     "output_type": "stream",
     "text": [
      "isikan bilangan ke-1 = 1\n",
      "isikan bilangan ke-2 = 2\n",
      "hasil dari 1  +  2 =  3\n"
     ]
    }
   ],
   "source": [
    "bil1 = input ('isikan bilangan ke-1 = ')\n",
    "bil2 = input ('isikan bilangan ke-2 = ')\n",
    "hasil = int (bil1) + int (bil2)\n",
    "print (\"hasil dari\", bil1, \" + \",bil2, \"= \",hasil)"
   ]
  },
  {
   "cell_type": "markdown",
   "id": "c1d2d875",
   "metadata": {},
   "source": [
    "<b>LUAS PERSEGI PANJANG</b>"
   ]
  },
  {
   "cell_type": "code",
   "execution_count": 2,
   "id": "fbbe9544",
   "metadata": {},
   "outputs": [
    {
     "name": "stdout",
     "output_type": "stream",
     "text": [
      "isikan panjang = 1\n",
      "isikan lebar = 2\n",
      "hasil luas persegi panjang dari 1 * 2 adalah =  2\n"
     ]
    }
   ],
   "source": [
    "panjang = input ('isikan panjang = ')\n",
    "lebar   = input ('isikan lebar = ')\n",
    "hasil   = int (panjang) * int (lebar)\n",
    "print (\"hasil luas persegi panjang dengan rumus\", panjang, \"*\", lebar, \"adalah = \", hasil)"
   ]
  },
  {
   "cell_type": "markdown",
   "id": "e4dd2221",
   "metadata": {},
   "source": [
    "<b> SEPARATOR </b>"
   ]
  },
  {
   "cell_type": "code",
   "execution_count": 1,
   "id": "9fb03c0d",
   "metadata": {},
   "outputs": [
    {
     "name": "stdout",
     "output_type": "stream",
     "text": [
      "a\n",
      "b\n",
      "c\n",
      "d\n"
     ]
    }
   ],
   "source": [
    "print (\"a\",\"b\",\"c\",\"d\", sep = '\\n')\n",
    "# SEPARATOR / PEMBATAS"
   ]
  },
  {
   "cell_type": "markdown",
   "id": "b2558abb",
   "metadata": {},
   "source": [
    "<b>FORMAT INDEX </b>"
   ]
  },
  {
   "cell_type": "code",
   "execution_count": 3,
   "id": "5d224234",
   "metadata": {},
   "outputs": [
    {
     "name": "stdout",
     "output_type": "stream",
     "text": [
      "hasil dari 8 modulus 10 = 8\n"
     ]
    }
   ],
   "source": [
    "num_1 = 8\n",
    "num_2 = 10\n",
    "\n",
    "#hasil dari 8 modulus 10 = 8\n",
    "#str.format\n",
    "\n",
    "print ('hasil dari {} modulus {} = {}'.format(num_1,num_2,num_1%num_2))\n"
   ]
  },
  {
   "cell_type": "markdown",
   "id": "39228a5d",
   "metadata": {},
   "source": [
    "<b>MEMFORMAT DENGAN KEY (KUNCI)</b>"
   ]
  },
  {
   "cell_type": "code",
   "execution_count": 7,
   "id": "0893feb7",
   "metadata": {},
   "outputs": [
    {
     "name": "stdout",
     "output_type": "stream",
     "text": [
      "nama anda Rudi Rudi Darmawan\n"
     ]
    }
   ],
   "source": [
    "fname = \"Rudi\"\n",
    "mname = \"Hartono\"\n",
    "lname = \"Darmawan\"\n",
    "\n",
    "print ('Nama anda = {1} {0} {2}'.format (fname,mname,lname))"
   ]
  },
  {
   "cell_type": "markdown",
   "id": "5bcc6666",
   "metadata": {},
   "source": [
    "<b> TANDA PENGENAL </b>"
   ]
  },
  {
   "cell_type": "code",
   "execution_count": 9,
   "id": "976cfa2f",
   "metadata": {},
   "outputs": [
    {
     "name": "stdout",
     "output_type": "stream",
     "text": [
      "nama anda Tono, nilai anda 100\n"
     ]
    }
   ],
   "source": [
    "print ('Nama anda {nama}, nilai anda {nilai}'.format(nama=\"Tono\", nilai=100))"
   ]
  },
  {
   "cell_type": "markdown",
   "id": "ab4269e1",
   "metadata": {},
   "source": [
    "<b>PENGENALAN STRING</b>"
   ]
  },
  {
   "cell_type": "code",
   "execution_count": 12,
   "id": "89e8866a",
   "metadata": {},
   "outputs": [
    {
     "name": "stdout",
     "output_type": "stream",
     "text": [
      "karakter pertama =  U\n",
      "karakter kedua =  A\n",
      "UNIVERSITAS\n",
      "PUTRA\n"
     ]
    }
   ],
   "source": [
    "univ = \"UNIVERSITAS NUSA PUTRA\"\n",
    "\n",
    "print('karakter pertama = ',univ[0])\n",
    "print('karakter kedua = ',univ[-1])\n",
    "# simbol ':' melambangkan sampaimana\n",
    "print (univ[0:11])\n",
    "print (univ[-5:])"
   ]
  },
  {
   "cell_type": "markdown",
   "id": "822e9999",
   "metadata": {},
   "source": [
    "<b>F string (SERING DIPAKAI)</b>"
   ]
  },
  {
   "cell_type": "code",
   "execution_count": 17,
   "id": "5a7d54df",
   "metadata": {},
   "outputs": [
    {
     "name": "stdout",
     "output_type": "stream",
     "text": [
      "Orang yang sedang jatuh cinta\n",
      "hasil penjumlahan 100 + 50 = 150\n"
     ]
    }
   ],
   "source": [
    "#tipe data string\n",
    "fname = 'jatuh'\n",
    "lname = 'cinta'\n",
    "\n",
    "print (f'Orang yang sedang {fname} {lname}')\n",
    "\n",
    "#tipe data integer\n",
    "first  = 100\n",
    "second = 50\n",
    "\n",
    "print (f'hasil penjumlahan {first} + {second} = {first+second}')"
   ]
  },
  {
   "cell_type": "markdown",
   "id": "6504c520",
   "metadata": {},
   "source": [
    "<b>SPLIT</b>"
   ]
  },
  {
   "cell_type": "code",
   "execution_count": 18,
   "id": "ee29c00a",
   "metadata": {},
   "outputs": [
    {
     "name": "stdout",
     "output_type": "stream",
     "text": [
      "['Andri', 'Budi', 'Cika']\n",
      "['Andri', 'Budi', 'Cika']\n",
      "Andri@Budi@Cika\n"
     ]
    }
   ],
   "source": [
    "nama  = \"Andri,Budi,Cika\"\n",
    "nama2 = \"Andri Budi Cika\"\n",
    "#split -> memisahkan string berdasarkan karakter tertentu\n",
    "print (nama2.split())\n",
    "print (nama.split (\",\"))\n",
    "\n",
    "#join  -> menggabungkan string kedalam kumpulan karakter\n",
    "print ('@'.join (nama.split(\",\")))"
   ]
  },
  {
   "cell_type": "code",
   "execution_count": 30,
   "id": "a1afe6dc",
   "metadata": {},
   "outputs": [
    {
     "name": "stdout",
     "output_type": "stream",
     "text": [
      "masukkan tanggal lahir = 19/oktober/2010\n",
      "masukkan nama = Bill Gate\n"
     ]
    },
    {
     "ename": "TypeError",
     "evalue": "'str' object is not callable",
     "output_type": "error",
     "traceback": [
      "\u001b[1;31m---------------------------------------------------------------------------\u001b[0m",
      "\u001b[1;31mTypeError\u001b[0m                                 Traceback (most recent call last)",
      "Input \u001b[1;32mIn [30]\u001b[0m, in \u001b[0;36m<cell line: 11>\u001b[1;34m()\u001b[0m\n\u001b[0;32m      9\u001b[0m nama \u001b[38;5;241m=\u001b[39m \u001b[38;5;28minput\u001b[39m (\u001b[38;5;124m\"\u001b[39m\u001b[38;5;124mmasukkan nama = \u001b[39m\u001b[38;5;124m\"\u001b[39m)\n\u001b[0;32m     10\u001b[0m pemisah \u001b[38;5;241m=\u001b[39m tgl\u001b[38;5;241m.\u001b[39msplit(\u001b[38;5;124m\"\u001b[39m\u001b[38;5;124m/\u001b[39m\u001b[38;5;124m\"\u001b[39m)\n\u001b[1;32m---> 11\u001b[0m \u001b[38;5;28;43mprint\u001b[39;49m\u001b[43m(\u001b[49m\u001b[38;5;124;43m\"\u001b[39;49m\u001b[38;5;124;43mOutput : \u001b[39;49m\u001b[38;5;124;43m\"\u001b[39;49m\u001b[43m)\u001b[49m\n\u001b[0;32m     12\u001b[0m \u001b[38;5;28mprint\u001b[39m(\u001b[38;5;124mf\u001b[39m\u001b[38;5;124m\"\u001b[39m\u001b[38;5;124mTgl : \u001b[39m\u001b[38;5;132;01m{\u001b[39;00mpemisah[\u001b[38;5;241m0\u001b[39m]\u001b[38;5;132;01m}\u001b[39;00m\u001b[38;5;124m, bulan : \u001b[39m\u001b[38;5;132;01m{\u001b[39;00mpemisah[\u001b[38;5;241m1\u001b[39m]\u001b[38;5;132;01m}\u001b[39;00m\u001b[38;5;124m, Tahun : \u001b[39m\u001b[38;5;132;01m{\u001b[39;00mpemisah[\u001b[38;5;241m2\u001b[39m]\u001b[38;5;132;01m}\u001b[39;00m\u001b[38;5;124m\"\u001b[39m)\n\u001b[0;32m     13\u001b[0m pemisah2 \u001b[38;5;241m=\u001b[39m nama\u001b[38;5;241m.\u001b[39msplit()\n",
      "\u001b[1;31mTypeError\u001b[0m: 'str' object is not callable"
     ]
    }
   ],
   "source": [
    "#input tgl lahir -> 18/Oktober/2010\n",
    "#input nama      -> Bill Gate\n",
    "\n",
    "#output =\n",
    "#Tgl : 18, Bulan : Oktober, Tahun :2010\n",
    "#Nama Inisial    : BG\n",
    "\n",
    "tgl  = input (\"masukkan tanggal lahir = \")\n",
    "nama = input (\"masukkan nama = \")\n",
    "pemisah = tgl.split(\"/\")\n",
    "print(\"Output : \")\n",
    "print(f\"Tgl : {pemisah[0]}, bulan : {pemisah[1]}, Tahun : {pemisah[2]}\")\n",
    "pemisah2 = nama.split()\n",
    "nama_pertama = pemisah2[0]\n",
    "nama_terakhir = pemisah2[1]\n",
    "print(f\"Nama inisial : {nama_pertama[0]+nama_terakhir[0]}\") "
   ]
  },
  {
   "cell_type": "code",
   "execution_count": null,
   "id": "524f106e",
   "metadata": {},
   "outputs": [],
   "source": []
  }
 ],
 "metadata": {
  "kernelspec": {
   "display_name": "Python 3 (ipykernel)",
   "language": "python",
   "name": "python3"
  },
  "language_info": {
   "codemirror_mode": {
    "name": "ipython",
    "version": 3
   },
   "file_extension": ".py",
   "mimetype": "text/x-python",
   "name": "python",
   "nbconvert_exporter": "python",
   "pygments_lexer": "ipython3",
   "version": "3.9.12"
  }
 },
 "nbformat": 4,
 "nbformat_minor": 5
}
